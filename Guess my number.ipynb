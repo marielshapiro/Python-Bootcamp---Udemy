{
 "cells": [
  {
   "cell_type": "markdown",
   "metadata": {},
   "source": []
  },
  {
   "cell_type": "code",
   "execution_count": 2,
   "metadata": {
    "scrolled": true
   },
   "outputs": [
    {
     "name": "stdout",
     "output_type": "stream",
     "text": [
      "LET'S PLAY GUESS MY NUMBER!\n",
      "\n",
      "Guess a number between 1 and 50: -1\n",
      "OUT OF BOUNDS, please type a valid number\n",
      "\n",
      "Guess a number between 1 and 50: 1\n",
      "COLD!\n",
      "\n",
      "Guess a number between 1 and 50: -2\n",
      "OUT OF BOUNDS, please type a valid number\n",
      "\n",
      "Guess a number between 1 and 50: no no please give me outameal\n",
      "OUT OF BOUNDS, please type a valid number\n",
      "\n",
      "Guess a number between 1 and 50:  \n",
      "OUT OF BOUNDS, please type a valid number\n",
      "\n",
      "Guess a number between 1 and 50: 51\n",
      "OUT OF BOUNDS, please type a valid number\n",
      "\n",
      "Guess a number between 1 and 50: 50\n",
      "WARMER\n",
      "\n",
      "Guess a number between 1 and 50: 40\n",
      "WARMER\n",
      "\n",
      "Guess a number between 1 and 50: 30\n",
      "WARMER\n",
      "\n",
      "Guess a number between 1 and 50: 20\n",
      "COLDER\n",
      "\n",
      "Guess a number between 1 and 50: 35\n",
      "COLDER\n",
      "\n",
      "Guess a number between 1 and 50: 29\n",
      "WARMER\n",
      "\n",
      "Guess a number between 1 and 50: \n",
      "OUT OF BOUNDS, please type a valid number\n",
      "\n",
      "Guess a number between 1 and 50: 28\n",
      "WARMER\n",
      "\n",
      "Guess a number between 1 and 50: 25\n",
      "COLDER\n",
      "\n",
      "Guess a number between 1 and 50: 26\n",
      "WARMER\n",
      "\n",
      "Guess a number between 1 and 50: 27\n",
      "YOU GUESSED IT WITH 11 TRIES\n"
     ]
    }
   ],
   "source": [
    "\n",
    "\n",
    "from random import randint\n",
    "\n",
    "\n",
    "number = randint(1,51)\n",
    "\n",
    "all_guess = [0]\n",
    "\n",
    "print(\"LET'S PLAY GUESS MY NUMBER!\")\n",
    "while True:\n",
    "    \n",
    "    guess = input('\\nGuess a number between 1 and 50: ')\n",
    "    if guess.isdigit():\n",
    "        guess = int(guess)\n",
    "        if guess>50:\n",
    "            print('OUT OF BOUNDS, please type a valid number')\n",
    "            continue\n",
    "        else:\n",
    "            pass\n",
    "        \n",
    "    else:\n",
    "        print('OUT OF BOUNDS, please type a valid number')\n",
    "        continue\n",
    "        \n",
    "    if guess == number:\n",
    "        print(f'YOU GUESSED IT WITH {len(all_guess)} TRIES')\n",
    "        break\n",
    "    \n",
    "    all_guess.append(guess)\n",
    "       \n",
    "    if all_guess[-2]:\n",
    "        \n",
    "        if abs(number - guess)< abs(number - all_guess[-2]):\n",
    "            print('WARMER')          \n",
    "        else:\n",
    "            print('COLDER')\n",
    "    else:\n",
    "        if abs(all_guess[-2]-number) <= 10:\n",
    "            print('WARM!')\n",
    "        else:\n",
    "            print('COLD!')\n",
    "    \n"
   ]
  },
  {
   "cell_type": "markdown",
   "metadata": {},
   "source": []
  },
  {
   "cell_type": "code",
   "execution_count": null,
   "metadata": {},
   "outputs": [],
   "source": []
  }
 ],
 "metadata": {
  "kernelspec": {
   "display_name": "Python 3",
   "language": "python",
   "name": "python3"
  },
  "language_info": {
   "codemirror_mode": {
    "name": "ipython",
    "version": 3
   },
   "file_extension": ".py",
   "mimetype": "text/x-python",
   "name": "python",
   "nbconvert_exporter": "python",
   "pygments_lexer": "ipython3",
   "version": "3.8.5"
  }
 },
 "nbformat": 4,
 "nbformat_minor": 4
}
